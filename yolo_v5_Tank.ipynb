{
  "nbformat": 4,
  "nbformat_minor": 0,
  "metadata": {
    "colab": {
      "name": "yolo v5 Tank.ipynb",
      "private_outputs": true,
      "provenance": [],
      "collapsed_sections": [],
      "authorship_tag": "ABX9TyPsdB4/tiLcq6vQz+Mmy3Dz",
      "include_colab_link": true
    },
    "kernelspec": {
      "name": "python3",
      "display_name": "Python 3"
    },
    "language_info": {
      "name": "python"
    },
    "accelerator": "GPU"
  },
  "cells": [
    {
      "cell_type": "markdown",
      "metadata": {
        "id": "view-in-github",
        "colab_type": "text"
      },
      "source": [
        "<a href=\"https://colab.research.google.com/github/dasekang/Pythonstudy/blob/master/yolo_v5_Tank.ipynb\" target=\"_parent\"><img src=\"https://colab.research.google.com/assets/colab-badge.svg\" alt=\"Open In Colab\"/></a>"
      ]
    },
    {
      "cell_type": "code",
      "metadata": {
        "id": "i7zr8X12iPI3"
      },
      "source": [
        "#yolov5 설치\n",
        "%cd /content\n",
        "!git clone https://github.com/ultralytics/yolov5.git"
      ],
      "execution_count": null,
      "outputs": []
    },
    {
      "cell_type": "code",
      "metadata": {
        "id": "uZxmilqiigcw"
      },
      "source": [
        "#yolov5 요구사항 설치\n",
        "%cd /content/yolov5/\n",
        "!pip install -r requirements.txt"
      ],
      "execution_count": null,
      "outputs": []
    },
    {
      "cell_type": "code",
      "metadata": {
        "id": "PSJ66CICiyej"
      },
      "source": [
        "#학습\n",
        "%cd /content/yolov5/\n",
        "\n",
        "!python train.py --img 416 --batch 10 --epochs 10 --data /content/yolov5/data/tank.yaml --cfg ./models/yolov5s.yaml --weights yolov5s.pt --name tank_yolov5s_results"
      ],
      "execution_count": null,
      "outputs": []
    },
    {
      "cell_type": "code",
      "metadata": {
        "id": "iV41TqAsvmh7"
      },
      "source": [
        "%load_ext tensorboard\n",
        "%tensorboard --logdir /content/yolov5/runs/"
      ],
      "execution_count": null,
      "outputs": []
    },
    {
      "cell_type": "code",
      "metadata": {
        "id": "3ml71P0uoDAu"
      },
      "source": [
        "#구글 드라이브에서 colab 파일 복사\n",
        "from google.colab import /drive/\n",
        "drive.mount('/content/drive')"
      ],
      "execution_count": null,
      "outputs": []
    }
  ]
}